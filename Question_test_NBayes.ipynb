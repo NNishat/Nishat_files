{
  "nbformat": 4,
  "nbformat_minor": 0,
  "metadata": {
    "colab": {
      "name": "Question_test NBayes.ipynb",
      "provenance": [],
      "collapsed_sections": []
    },
    "kernelspec": {
      "name": "python3",
      "display_name": "Python 3"
    }
  },
  "cells": [
    {
      "cell_type": "markdown",
      "metadata": {
        "id": "_hKoth6KlNWY",
        "colab_type": "text"
      },
      "source": [
        "**Necessary library**"
      ]
    },
    {
      "cell_type": "code",
      "metadata": {
        "id": "xOIL6erilL_1",
        "colab_type": "code",
        "colab": {}
      },
      "source": [
        "import numpy as np\n",
        "import pandas as pd\n",
        "import matplotlib.pyplot as plt"
      ],
      "execution_count": 8,
      "outputs": []
    },
    {
      "cell_type": "markdown",
      "metadata": {
        "id": "8MIPS3Y-lRbl",
        "colab_type": "text"
      },
      "source": [
        "**Load the dataset**\n",
        "**copy link from raw helpful link:https://medium.com/towards-entrepreneurship/importing-a-csv-file-from-github-in-a-jupyter-notebook-e2c28e7e74a5**"
      ]
    },
    {
      "cell_type": "code",
      "metadata": {
        "id": "SwgB3H7d46dW",
        "colab_type": "code",
        "colab": {}
      },
      "source": [
        "\n",
        "url = 'https://raw.githubusercontent.com/NNishat/Nishat_files/master/dataset%20-%20ques.csv'\n",
        "df = pd.read_csv(url)\n",
        "# Dataset is now stored in a Pandas Dataframe"
      ],
      "execution_count": 9,
      "outputs": []
    },
    {
      "cell_type": "code",
      "metadata": {
        "id": "dTia45deNa2H",
        "colab_type": "code",
        "colab": {
          "base_uri": "https://localhost:8080/",
          "height": 206
        },
        "outputId": "da365725-04b2-4e95-aacd-8f5e6dab4e03"
      },
      "source": [
        "df.head(5)"
      ],
      "execution_count": 10,
      "outputs": [
        {
          "output_type": "execute_result",
          "data": {
            "text/html": [
              "<div>\n",
              "<style scoped>\n",
              "    .dataframe tbody tr th:only-of-type {\n",
              "        vertical-align: middle;\n",
              "    }\n",
              "\n",
              "    .dataframe tbody tr th {\n",
              "        vertical-align: top;\n",
              "    }\n",
              "\n",
              "    .dataframe thead th {\n",
              "        text-align: right;\n",
              "    }\n",
              "</style>\n",
              "<table border=\"1\" class=\"dataframe\">\n",
              "  <thead>\n",
              "    <tr style=\"text-align: right;\">\n",
              "      <th></th>\n",
              "      <th>Question</th>\n",
              "      <th>Attributes of God</th>\n",
              "    </tr>\n",
              "  </thead>\n",
              "  <tbody>\n",
              "    <tr>\n",
              "      <th>0</th>\n",
              "      <td>How is Adam different?</td>\n",
              "      <td>0</td>\n",
              "    </tr>\n",
              "    <tr>\n",
              "      <th>1</th>\n",
              "      <td>What does Allah know?</td>\n",
              "      <td>1</td>\n",
              "    </tr>\n",
              "    <tr>\n",
              "      <th>2</th>\n",
              "      <td>What does Allah know about Adam?</td>\n",
              "      <td>1</td>\n",
              "    </tr>\n",
              "    <tr>\n",
              "      <th>3</th>\n",
              "      <td>Who owns heaven and earth?</td>\n",
              "      <td>1</td>\n",
              "    </tr>\n",
              "    <tr>\n",
              "      <th>4</th>\n",
              "      <td>Who helps and protects mankind?</td>\n",
              "      <td>1</td>\n",
              "    </tr>\n",
              "  </tbody>\n",
              "</table>\n",
              "</div>"
            ],
            "text/plain": [
              "                           Question  Attributes of God\n",
              "0            How is Adam different?                  0\n",
              "1             What does Allah know?                  1\n",
              "2  What does Allah know about Adam?                  1\n",
              "3        Who owns heaven and earth?                  1\n",
              "4   Who helps and protects mankind?                  1"
            ]
          },
          "metadata": {
            "tags": []
          },
          "execution_count": 10
        }
      ]
    },
    {
      "cell_type": "markdown",
      "metadata": {
        "id": "NIQY6cfQkIPg",
        "colab_type": "text"
      },
      "source": [
        "**Define independent and dependent features**"
      ]
    },
    {
      "cell_type": "code",
      "metadata": {
        "id": "XzmaKCgoQla9",
        "colab_type": "code",
        "colab": {}
      },
      "source": [
        "X= df['Question']\n",
        "y= df['Attributes of God']"
      ],
      "execution_count": 11,
      "outputs": []
    },
    {
      "cell_type": "markdown",
      "metadata": {
        "id": "u1eE4PQRkM3w",
        "colab_type": "text"
      },
      "source": [
        "**Copy the dataframe into mesages variable**"
      ]
    },
    {
      "cell_type": "code",
      "metadata": {
        "id": "OweRLVeZQ6g6",
        "colab_type": "code",
        "colab": {}
      },
      "source": [
        "mesages= df.copy()"
      ],
      "execution_count": 12,
      "outputs": []
    },
    {
      "cell_type": "code",
      "metadata": {
        "id": "-HOHHlIQQ9d2",
        "colab_type": "code",
        "colab": {
          "base_uri": "https://localhost:8080/",
          "height": 175
        },
        "outputId": "dfbcf281-1d65-42fb-f50a-ad4adb741799"
      },
      "source": [
        "mesages.head(4)"
      ],
      "execution_count": 13,
      "outputs": [
        {
          "output_type": "execute_result",
          "data": {
            "text/html": [
              "<div>\n",
              "<style scoped>\n",
              "    .dataframe tbody tr th:only-of-type {\n",
              "        vertical-align: middle;\n",
              "    }\n",
              "\n",
              "    .dataframe tbody tr th {\n",
              "        vertical-align: top;\n",
              "    }\n",
              "\n",
              "    .dataframe thead th {\n",
              "        text-align: right;\n",
              "    }\n",
              "</style>\n",
              "<table border=\"1\" class=\"dataframe\">\n",
              "  <thead>\n",
              "    <tr style=\"text-align: right;\">\n",
              "      <th></th>\n",
              "      <th>Question</th>\n",
              "      <th>Attributes of God</th>\n",
              "    </tr>\n",
              "  </thead>\n",
              "  <tbody>\n",
              "    <tr>\n",
              "      <th>0</th>\n",
              "      <td>How is Adam different?</td>\n",
              "      <td>0</td>\n",
              "    </tr>\n",
              "    <tr>\n",
              "      <th>1</th>\n",
              "      <td>What does Allah know?</td>\n",
              "      <td>1</td>\n",
              "    </tr>\n",
              "    <tr>\n",
              "      <th>2</th>\n",
              "      <td>What does Allah know about Adam?</td>\n",
              "      <td>1</td>\n",
              "    </tr>\n",
              "    <tr>\n",
              "      <th>3</th>\n",
              "      <td>Who owns heaven and earth?</td>\n",
              "      <td>1</td>\n",
              "    </tr>\n",
              "  </tbody>\n",
              "</table>\n",
              "</div>"
            ],
            "text/plain": [
              "                           Question  Attributes of God\n",
              "0            How is Adam different?                  0\n",
              "1             What does Allah know?                  1\n",
              "2  What does Allah know about Adam?                  1\n",
              "3        Who owns heaven and earth?                  1"
            ]
          },
          "metadata": {
            "tags": []
          },
          "execution_count": 13
        }
      ]
    },
    {
      "cell_type": "markdown",
      "metadata": {
        "id": "V1TMFidhkWNj",
        "colab_type": "text"
      },
      "source": [
        "**Apply RESET Index on the dataframe**"
      ]
    },
    {
      "cell_type": "code",
      "metadata": {
        "id": "PZ3SCauGRHT5",
        "colab_type": "code",
        "colab": {}
      },
      "source": [
        "mesages.reset_index(inplace=True)"
      ],
      "execution_count": 14,
      "outputs": []
    },
    {
      "cell_type": "markdown",
      "metadata": {
        "id": "FpyWveIJkgVB",
        "colab_type": "text"
      },
      "source": [
        "**Library import**"
      ]
    },
    {
      "cell_type": "code",
      "metadata": {
        "id": "qgnRo-kxNlZm",
        "colab_type": "code",
        "colab": {}
      },
      "source": [
        "import re\n",
        "import nltk\n",
        "import string\n",
        "from nltk.tokenize import word_tokenize\n",
        "from nltk.corpus import stopwords\n",
        "from nltk.stem.porter import PorterStemmer"
      ],
      "execution_count": 15,
      "outputs": []
    },
    {
      "cell_type": "markdown",
      "metadata": {
        "id": "Cs1JzqQskmL5",
        "colab_type": "text"
      },
      "source": [
        "**Text preprocessing**"
      ]
    },
    {
      "cell_type": "code",
      "metadata": {
        "id": "bHke440yOUKY",
        "colab_type": "code",
        "colab": {
          "base_uri": "https://localhost:8080/",
          "height": 274
        },
        "outputId": "c493e736-1764-484b-b6fa-608919892a00"
      },
      "source": [
        "#Ideas from this Youtube link about Naive bayes and bag of words--------------------https://www.youtube.com/watch?v=8Mlc4-3tgzc\n",
        "#github link--------------https://github.com/Suji04/NormalizedNerd/blob/master/Introduction%20to%20NLP/Bag%20of%20Words.ipynb\n",
        "import nltk\n",
        "nltk.download('punkt')\n",
        "nltk.download('stopwords')\n",
        "\n",
        "def clean_text(df):\n",
        "    all_reviews = list()\n",
        "    lines = df[\"Question\"].values.tolist()\n",
        "    for text in lines:\n",
        "        text = text.lower()\n",
        "        #removing all the links\n",
        "        pattern = re.compile('http[s]?://(?:[a-zA-Z]|[0-9]|[$-_@.&+]|[!*\\(\\),]|(?:%[0-9a-fA-F][0-9a-fA-F]))+')\n",
        "        text = pattern.sub('', text)\n",
        "        #removing punctuation\n",
        "        text = re.sub(r\"[,.\\\"!@#$%^&*(){}?/;`~:<>+=-]\", \"\", text)\n",
        "        tokens = word_tokenize(text)\n",
        "        table = str.maketrans('', '', string.punctuation)\n",
        "        stripped = [w.translate(table) for w in tokens]\n",
        "        words = [word for word in stripped if word.isalpha()]\n",
        "        stop_words = set(stopwords.words(\"english\"))\n",
        "        stop_words.discard(\"not\")\n",
        "        PS = PorterStemmer()\n",
        "        #words = [w for w in words if not w in stop_words]\n",
        "        words = [PS.stem(w) for w in words if not w in stop_words]\n",
        "        words = ' '.join(words)\n",
        "        all_reviews.append(words)\n",
        "    return all_reviews\n",
        "\n",
        "all_reviews = clean_text(df)\n",
        "all_reviews[0:10]"
      ],
      "execution_count": 16,
      "outputs": [
        {
          "output_type": "stream",
          "text": [
            "[nltk_data] Downloading package punkt to /root/nltk_data...\n",
            "[nltk_data]   Unzipping tokenizers/punkt.zip.\n",
            "[nltk_data] Downloading package stopwords to /root/nltk_data...\n",
            "[nltk_data]   Unzipping corpora/stopwords.zip.\n"
          ],
          "name": "stdout"
        },
        {
          "output_type": "execute_result",
          "data": {
            "text/plain": [
              "['adam differ',\n",
              " 'allah know',\n",
              " 'allah know adam',\n",
              " 'own heaven earth',\n",
              " 'help protect mankind',\n",
              " 'origin heaven earth',\n",
              " 'decid matter',\n",
              " 'allah creat',\n",
              " 'bless allah given',\n",
              " 'allah want human bless']"
            ]
          },
          "metadata": {
            "tags": []
          },
          "execution_count": 16
        }
      ]
    },
    {
      "cell_type": "markdown",
      "metadata": {
        "id": "lyTOFb1hkpQG",
        "colab_type": "text"
      },
      "source": [
        "**Features extraction using CountVectorizer**"
      ]
    },
    {
      "cell_type": "code",
      "metadata": {
        "id": "d3-UROnMOc90",
        "colab_type": "code",
        "colab": {}
      },
      "source": [
        "from sklearn.feature_extraction.text import CountVectorizer\n",
        "CV = CountVectorizer(min_df=3)   \n",
        "X = CV.fit_transform(all_reviews).toarray()\n",
        "y = mesages[\"Attributes of God\"]"
      ],
      "execution_count": 17,
      "outputs": []
    },
    {
      "cell_type": "code",
      "metadata": {
        "id": "T7n6pDWzRbPc",
        "colab_type": "code",
        "colab": {
          "base_uri": "https://localhost:8080/",
          "height": 35
        },
        "outputId": "f6e94984-8cec-4fdf-dc04-a93ddb8adc0a"
      },
      "source": [
        "X.shape"
      ],
      "execution_count": 18,
      "outputs": [
        {
          "output_type": "execute_result",
          "data": {
            "text/plain": [
              "(73, 16)"
            ]
          },
          "metadata": {
            "tags": []
          },
          "execution_count": 18
        }
      ]
    },
    {
      "cell_type": "code",
      "metadata": {
        "id": "m2QT36O3hoGQ",
        "colab_type": "code",
        "colab": {
          "base_uri": "https://localhost:8080/",
          "height": 551
        },
        "outputId": "6c602bc9-64ac-4ef1-d0de-e858d52af745"
      },
      "source": [
        "#printing first 5 rows https://www.shanelynn.ie/select-pandas-dataframe-rows-and-columns-using-iloc-loc-and-ix/\n",
        "df.loc[0:15]"
      ],
      "execution_count": 27,
      "outputs": [
        {
          "output_type": "execute_result",
          "data": {
            "text/html": [
              "<div>\n",
              "<style scoped>\n",
              "    .dataframe tbody tr th:only-of-type {\n",
              "        vertical-align: middle;\n",
              "    }\n",
              "\n",
              "    .dataframe tbody tr th {\n",
              "        vertical-align: top;\n",
              "    }\n",
              "\n",
              "    .dataframe thead th {\n",
              "        text-align: right;\n",
              "    }\n",
              "</style>\n",
              "<table border=\"1\" class=\"dataframe\">\n",
              "  <thead>\n",
              "    <tr style=\"text-align: right;\">\n",
              "      <th></th>\n",
              "      <th>Question</th>\n",
              "      <th>Attributes of God</th>\n",
              "    </tr>\n",
              "  </thead>\n",
              "  <tbody>\n",
              "    <tr>\n",
              "      <th>0</th>\n",
              "      <td>How is Adam different?</td>\n",
              "      <td>0</td>\n",
              "    </tr>\n",
              "    <tr>\n",
              "      <th>1</th>\n",
              "      <td>What does Allah know?</td>\n",
              "      <td>1</td>\n",
              "    </tr>\n",
              "    <tr>\n",
              "      <th>2</th>\n",
              "      <td>What does Allah know about Adam?</td>\n",
              "      <td>1</td>\n",
              "    </tr>\n",
              "    <tr>\n",
              "      <th>3</th>\n",
              "      <td>Who owns heaven and earth?</td>\n",
              "      <td>1</td>\n",
              "    </tr>\n",
              "    <tr>\n",
              "      <th>4</th>\n",
              "      <td>Who helps and protects mankind?</td>\n",
              "      <td>1</td>\n",
              "    </tr>\n",
              "    <tr>\n",
              "      <th>5</th>\n",
              "      <td>Who originated the heaven and earth?</td>\n",
              "      <td>1</td>\n",
              "    </tr>\n",
              "    <tr>\n",
              "      <th>6</th>\n",
              "      <td>Who decides all matters?</td>\n",
              "      <td>1</td>\n",
              "    </tr>\n",
              "    <tr>\n",
              "      <th>7</th>\n",
              "      <td>How does Allah create?</td>\n",
              "      <td>1</td>\n",
              "    </tr>\n",
              "    <tr>\n",
              "      <th>8</th>\n",
              "      <td>What blessings has Allah given?</td>\n",
              "      <td>0</td>\n",
              "    </tr>\n",
              "    <tr>\n",
              "      <th>9</th>\n",
              "      <td>What does Allah want humans to do with blessings?</td>\n",
              "      <td>0</td>\n",
              "    </tr>\n",
              "    <tr>\n",
              "      <th>10</th>\n",
              "      <td>What blessings does Allah want humans to study?</td>\n",
              "      <td>0</td>\n",
              "    </tr>\n",
              "    <tr>\n",
              "      <th>11</th>\n",
              "      <td>What signs does Allah want humans to study?</td>\n",
              "      <td>0</td>\n",
              "    </tr>\n",
              "    <tr>\n",
              "      <th>12</th>\n",
              "      <td>Who is God?</td>\n",
              "      <td>1</td>\n",
              "    </tr>\n",
              "    <tr>\n",
              "      <th>13</th>\n",
              "      <td>Who owns everything?</td>\n",
              "      <td>1</td>\n",
              "    </tr>\n",
              "    <tr>\n",
              "      <th>14</th>\n",
              "      <td>What are the Attributes of Allah?</td>\n",
              "      <td>1</td>\n",
              "    </tr>\n",
              "    <tr>\n",
              "      <th>15</th>\n",
              "      <td>How does Allah govern everything?</td>\n",
              "      <td>1</td>\n",
              "    </tr>\n",
              "  </tbody>\n",
              "</table>\n",
              "</div>"
            ],
            "text/plain": [
              "                                             Question  Attributes of God\n",
              "0                              How is Adam different?                  0\n",
              "1                               What does Allah know?                  1\n",
              "2                    What does Allah know about Adam?                  1\n",
              "3                          Who owns heaven and earth?                  1\n",
              "4                     Who helps and protects mankind?                  1\n",
              "5                Who originated the heaven and earth?                  1\n",
              "6                            Who decides all matters?                  1\n",
              "7                              How does Allah create?                  1\n",
              "8                     What blessings has Allah given?                  0\n",
              "9   What does Allah want humans to do with blessings?                  0\n",
              "10    What blessings does Allah want humans to study?                  0\n",
              "11        What signs does Allah want humans to study?                  0\n",
              "12                                        Who is God?                  1\n",
              "13                               Who owns everything?                  1\n",
              "14                  What are the Attributes of Allah?                  1\n",
              "15                  How does Allah govern everything?                  1"
            ]
          },
          "metadata": {
            "tags": []
          },
          "execution_count": 27
        }
      ]
    },
    {
      "cell_type": "code",
      "metadata": {
        "id": "jsCNpC9GYmpt",
        "colab_type": "code",
        "colab": {
          "base_uri": "https://localhost:8080/",
          "height": 36
        },
        "outputId": "aa369935-7daf-412f-c862-a6486de856a8"
      },
      "source": [
        "df['Question'][9]"
      ],
      "execution_count": 28,
      "outputs": [
        {
          "output_type": "execute_result",
          "data": {
            "application/vnd.google.colaboratory.intrinsic+json": {
              "type": "string"
            },
            "text/plain": [
              "'What does Allah want humans to do with blessings?'"
            ]
          },
          "metadata": {
            "tags": []
          },
          "execution_count": 28
        }
      ]
    },
    {
      "cell_type": "markdown",
      "metadata": {
        "id": "Cd5vKQ9SkvnM",
        "colab_type": "text"
      },
      "source": [
        "**Train test split**"
      ]
    },
    {
      "cell_type": "code",
      "metadata": {
        "id": "0UlJO-oAOelI",
        "colab_type": "code",
        "colab": {}
      },
      "source": [
        "from sklearn.model_selection import train_test_split\n",
        "X_train, X_test, y_train, y_test = train_test_split(X, y, test_size = 0.2, random_state = 8)"
      ],
      "execution_count": 21,
      "outputs": []
    },
    {
      "cell_type": "code",
      "metadata": {
        "id": "416O9iJQVqNQ",
        "colab_type": "code",
        "colab": {}
      },
      "source": [
        "# from sklearn.tree import DecisionTreeClassifier\n",
        "# model = DecisionTreeClassifier(criterion=\"entropy\", random_state=41)\n",
        "#explaining random state https://www.youtube.com/watch?v=c249O4giblM\n",
        "#cross validation https://www.youtube.com/watch?v=fKz-SgScM3Q\n",
        "\n",
        "#from sklearn.naive_bayes import MultinomialNB\n",
        "#model = MultinomialNB()\n",
        "#from sklearn.naive_bayes import BernoulliNB\n",
        "#model = BernoulliNB()\n",
        "#from sklearn.naive_bayes import svm\n",
        "#model=svm.SVC()"
      ],
      "execution_count": 22,
      "outputs": []
    },
    {
      "cell_type": "markdown",
      "metadata": {
        "id": "fptKVmEDk0MB",
        "colab_type": "text"
      },
      "source": [
        "**GaussianNB Algorithm**"
      ]
    },
    {
      "cell_type": "code",
      "metadata": {
        "id": "a4pqtiw8Ok58",
        "colab_type": "code",
        "colab": {
          "base_uri": "https://localhost:8080/",
          "height": 72
        },
        "outputId": "5be9bfb2-ff72-46f1-a01b-7be8b8dc056d"
      },
      "source": [
        "from sklearn.naive_bayes import GaussianNB\n",
        "from sklearn.metrics import accuracy_score, f1_score, precision_score\n",
        "model = GaussianNB()\n",
        "model.fit(X_train,y_train)\n",
        "y_pred = model.predict(X_test)\n",
        "print(\"SCORE:\",accuracy_score(y_test, y_pred))\n",
        "print(\"F1-SCORE:\",f1_score(y_test, y_pred))\n",
        "print(\"PRECISION:\",precision_score(y_test, y_pred))"
      ],
      "execution_count": 23,
      "outputs": [
        {
          "output_type": "stream",
          "text": [
            "SCORE: 0.6\n",
            "F1-SCORE: 0.7000000000000001\n",
            "PRECISION: 0.6363636363636364\n"
          ],
          "name": "stdout"
        }
      ]
    },
    {
      "cell_type": "markdown",
      "metadata": {
        "id": "y4ic8G-wk6FY",
        "colab_type": "text"
      },
      "source": [
        "**Predict manually**"
      ]
    },
    {
      "cell_type": "code",
      "metadata": {
        "id": "1kUpKyIRaNp-",
        "colab_type": "code",
        "colab": {
          "base_uri": "https://localhost:8080/",
          "height": 35
        },
        "outputId": "6c7498c0-6dae-42d0-e307-4142bf8b91d3"
      },
      "source": [
        "model.predict(X_test)"
      ],
      "execution_count": 24,
      "outputs": [
        {
          "output_type": "execute_result",
          "data": {
            "text/plain": [
              "array([0, 1, 0, 1, 0, 0, 1, 1, 1, 1, 1, 1, 1, 1, 1])"
            ]
          },
          "metadata": {
            "tags": []
          },
          "execution_count": 24
        }
      ]
    },
    {
      "cell_type": "markdown",
      "metadata": {
        "id": "VQC9P_huO27p",
        "colab_type": "text"
      },
      "source": [
        "**K-fold cross validiation**"
      ]
    },
    {
      "cell_type": "code",
      "metadata": {
        "id": "8WyOxyDcO6og",
        "colab_type": "code",
        "colab": {
          "base_uri": "https://localhost:8080/",
          "height": 72
        },
        "outputId": "b0c85212-3cbb-4d1a-8540-b14f3c04c0da"
      },
      "source": [
        "from sklearn.model_selection import cross_validate\n",
        "cv_gaussianNB= cross_validate(model, X, y, cv=10)\n",
        "print(cv_gaussianNB['test_score'])\n",
        "print(cv_gaussianNB['test_score'].mean())"
      ],
      "execution_count": 25,
      "outputs": [
        {
          "output_type": "stream",
          "text": [
            "[0.875      0.75       0.625      0.42857143 0.57142857 0.28571429\n",
            " 0.71428571 0.57142857 0.71428571 0.42857143]\n",
            "0.5964285714285714\n"
          ],
          "name": "stdout"
        }
      ]
    },
    {
      "cell_type": "markdown",
      "metadata": {
        "id": "NgvqCootlAi5",
        "colab_type": "text"
      },
      "source": [
        "**Predict from unknown dataset**"
      ]
    },
    {
      "cell_type": "code",
      "metadata": {
        "id": "eWpkBUw8cdqx",
        "colab_type": "code",
        "colab": {
          "base_uri": "https://localhost:8080/",
          "height": 35
        },
        "outputId": "fd50b927-34d9-43d5-c1db-e40542a14a7c"
      },
      "source": [
        "Questest = [\n",
        "          \n",
        "    \n",
        "    \"Who decides all matters?\",\n",
        "\n",
        "    \"Am I crazy?\",\n",
        "\n",
        "    \"Are machines crazy?\",\n",
        "    \n",
        "    \"What does Allah want humans to do with blessings?\",\n",
        "]\n",
        "Questest_count = CV.transform(Questest).toarray()\n",
        "model.predict(Questest_count)"
      ],
      "execution_count": 35,
      "outputs": [
        {
          "output_type": "execute_result",
          "data": {
            "text/plain": [
              "array([1, 1, 1, 0])"
            ]
          },
          "metadata": {
            "tags": []
          },
          "execution_count": 35
        }
      ]
    },
    {
      "cell_type": "code",
      "metadata": {
        "id": "QOX2GZBUnhx0",
        "colab_type": "code",
        "colab": {}
      },
      "source": [
        ""
      ],
      "execution_count": null,
      "outputs": []
    }
  ]
}