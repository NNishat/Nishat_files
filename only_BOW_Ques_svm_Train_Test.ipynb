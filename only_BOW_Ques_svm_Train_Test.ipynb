{
  "nbformat": 4,
  "nbformat_minor": 0,
  "metadata": {
    "kernelspec": {
      "display_name": "Python 3",
      "language": "python",
      "name": "python3"
    },
    "language_info": {
      "codemirror_mode": {
        "name": "ipython",
        "version": 3
      },
      "file_extension": ".py",
      "mimetype": "text/x-python",
      "name": "python",
      "nbconvert_exporter": "python",
      "pygments_lexer": "ipython3",
      "version": "3.6.8"
    },
    "colab": {
      "name": "only_BOW_Ques_svm_Train_Test",
      "provenance": [],
      "collapsed_sections": []
    }
  },
  "cells": [
    {
      "cell_type": "markdown",
      "metadata": {
        "id": "onVVWJEeRL_h"
      },
      "source": [
        "How to Connect Model Input Data With Predictions for Machine Learning link:https://machinelearningmastery.com/how-to-connect-model-input-data-with-predictions-for-machine-learning/\n",
        "Importing and Splitting Data into Dependent and Independent Features for Machine Learning:https://www.pluralsight.com/guides/importing-and-splitting-data-into-dependent-and-independent-features-for-ml\n",
        "consumer complain link:https://www.youtube.com/watch?v=GAVHLQi3eAI&t=638s"
      ]
    },
    {
      "cell_type": "markdown",
      "metadata": {
        "id": "INEuOAsht_6e"
      },
      "source": [
        "**Import Library File**"
      ]
    },
    {
      "cell_type": "code",
      "metadata": {
        "id": "A_wKEORGsZiz"
      },
      "source": [
        "# Import pandas package\n",
        "import pandas as pd\n",
        "\n"
      ],
      "execution_count": null,
      "outputs": []
    },
    {
      "cell_type": "markdown",
      "metadata": {
        "id": "8AwvWtZiuIXJ"
      },
      "source": [
        "**Upload train file**"
      ]
    },
    {
      "cell_type": "code",
      "metadata": {
        "id": "jm9N88XvTlWN",
        "colab": {
          "resources": {
            "http://localhost:8080/nbextensions/google.colab/files.js": {
              "data": "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",
              "ok": true,
              "headers": [
                [
                  "content-type",
                  "application/javascript"
                ]
              ],
              "status": 200,
              "status_text": "OK"
            }
          },
          "base_uri": "https://localhost:8080/",
          "height": 75
        },
        "outputId": "20f425df-4e1b-4dc4-bf6f-4249ad1496ef"
      },
      "source": [
        "\n",
        "from google.colab import files\n",
        "uploaded = files.upload()\n"
      ],
      "execution_count": null,
      "outputs": [
        {
          "output_type": "display_data",
          "data": {
            "text/html": [
              "\n",
              "     <input type=\"file\" id=\"files-0346bc21-a0c6-4c8d-a3de-a09144013fc4\" name=\"files[]\" multiple disabled\n",
              "        style=\"border:none\" />\n",
              "     <output id=\"result-0346bc21-a0c6-4c8d-a3de-a09144013fc4\">\n",
              "      Upload widget is only available when the cell has been executed in the\n",
              "      current browser session. Please rerun this cell to enable.\n",
              "      </output>\n",
              "      <script src=\"/nbextensions/google.colab/files.js\"></script> "
            ],
            "text/plain": [
              "<IPython.core.display.HTML object>"
            ]
          },
          "metadata": {
            "tags": []
          }
        },
        {
          "output_type": "stream",
          "text": [
            "Saving AoG_train.xlsx to AoG_train.xlsx\n"
          ],
          "name": "stdout"
        }
      ]
    },
    {
      "cell_type": "markdown",
      "metadata": {
        "id": "fhkpmE_suyw3"
      },
      "source": [
        "**Read Training file**"
      ]
    },
    {
      "cell_type": "code",
      "metadata": {
        "id": "CTNQN1M4TlWW",
        "colab": {
          "base_uri": "https://localhost:8080/",
          "height": 424
        },
        "outputId": "9f5e5c9a-eb73-4927-817c-0cd678c7e500"
      },
      "source": [
        "# making data frame\n",
        "#df = pd.read_csv(\"AoG_Cr_train.csv\")\n",
        "df= pd.read_excel(\"AoG_train.xlsx\")\n",
        "df\n",
        "\n"
      ],
      "execution_count": null,
      "outputs": [
        {
          "output_type": "execute_result",
          "data": {
            "text/html": [
              "<div>\n",
              "<style scoped>\n",
              "    .dataframe tbody tr th:only-of-type {\n",
              "        vertical-align: middle;\n",
              "    }\n",
              "\n",
              "    .dataframe tbody tr th {\n",
              "        vertical-align: top;\n",
              "    }\n",
              "\n",
              "    .dataframe thead th {\n",
              "        text-align: right;\n",
              "    }\n",
              "</style>\n",
              "<table border=\"1\" class=\"dataframe\">\n",
              "  <thead>\n",
              "    <tr style=\"text-align: right;\">\n",
              "      <th></th>\n",
              "      <th>Question text without tag</th>\n",
              "      <th>AoG</th>\n",
              "    </tr>\n",
              "  </thead>\n",
              "  <tbody>\n",
              "    <tr>\n",
              "      <th>0</th>\n",
              "      <td>How are humans different from other creation</td>\n",
              "      <td>0</td>\n",
              "    </tr>\n",
              "    <tr>\n",
              "      <th>1</th>\n",
              "      <td>what is the difference between the knowledge o...</td>\n",
              "      <td>1</td>\n",
              "    </tr>\n",
              "    <tr>\n",
              "      <th>2</th>\n",
              "      <td>Does Allah know the secrets of our hearts</td>\n",
              "      <td>1</td>\n",
              "    </tr>\n",
              "    <tr>\n",
              "      <th>3</th>\n",
              "      <td>Does anyone rule over the world</td>\n",
              "      <td>1</td>\n",
              "    </tr>\n",
              "    <tr>\n",
              "      <th>4</th>\n",
              "      <td>Can anyone help when we are in trouble</td>\n",
              "      <td>1</td>\n",
              "    </tr>\n",
              "    <tr>\n",
              "      <th>...</th>\n",
              "      <td>...</td>\n",
              "      <td>...</td>\n",
              "    </tr>\n",
              "    <tr>\n",
              "      <th>431</th>\n",
              "      <td>How does Allah take a decision</td>\n",
              "      <td>1</td>\n",
              "    </tr>\n",
              "    <tr>\n",
              "      <th>432</th>\n",
              "      <td>How does Allah implement His Decision</td>\n",
              "      <td>1</td>\n",
              "    </tr>\n",
              "    <tr>\n",
              "      <th>433</th>\n",
              "      <td>How has Allah designed everything</td>\n",
              "      <td>1</td>\n",
              "    </tr>\n",
              "    <tr>\n",
              "      <th>434</th>\n",
              "      <td>How will Allah judge a person</td>\n",
              "      <td>1</td>\n",
              "    </tr>\n",
              "    <tr>\n",
              "      <th>435</th>\n",
              "      <td>How does Allah identify the hypocrites</td>\n",
              "      <td>1</td>\n",
              "    </tr>\n",
              "  </tbody>\n",
              "</table>\n",
              "<p>436 rows × 2 columns</p>\n",
              "</div>"
            ],
            "text/plain": [
              "                             Question text without tag  AoG\n",
              "0         How are humans different from other creation    0\n",
              "1    what is the difference between the knowledge o...    1\n",
              "2            Does Allah know the secrets of our hearts    1\n",
              "3                      Does anyone rule over the world    1\n",
              "4               Can anyone help when we are in trouble    1\n",
              "..                                                 ...  ...\n",
              "431                     How does Allah take a decision    1\n",
              "432              How does Allah implement His Decision    1\n",
              "433                  How has Allah designed everything    1\n",
              "434                      How will Allah judge a person    1\n",
              "435             How does Allah identify the hypocrites    1\n",
              "\n",
              "[436 rows x 2 columns]"
            ]
          },
          "metadata": {
            "tags": []
          },
          "execution_count": 3
        }
      ]
    },
    {
      "cell_type": "markdown",
      "metadata": {
        "id": "ufxdqZP_u_ZY"
      },
      "source": [
        "**Shape of the Dataset**"
      ]
    },
    {
      "cell_type": "code",
      "metadata": {
        "id": "nBQ2R0inTlWe",
        "colab": {
          "base_uri": "https://localhost:8080/"
        },
        "outputId": "4e4ec6c2-7835-4ce4-e33a-dfa5b331e6f7"
      },
      "source": [
        "df.shape"
      ],
      "execution_count": null,
      "outputs": [
        {
          "output_type": "execute_result",
          "data": {
            "text/plain": [
              "(436, 2)"
            ]
          },
          "metadata": {
            "tags": []
          },
          "execution_count": 4
        }
      ]
    },
    {
      "cell_type": "markdown",
      "metadata": {
        "id": "P0ukQcF5_OOY"
      },
      "source": [
        "**Define input and output**"
      ]
    },
    {
      "cell_type": "code",
      "metadata": {
        "id": "lDy77XHu6BjH",
        "colab": {
          "base_uri": "https://localhost:8080/"
        },
        "outputId": "690e3ef9-6a5f-41da-b406-a3bb5915856e"
      },
      "source": [
        "X = df['Question text without tag']\n",
        "X.shape"
      ],
      "execution_count": null,
      "outputs": [
        {
          "output_type": "execute_result",
          "data": {
            "text/plain": [
              "(436,)"
            ]
          },
          "metadata": {
            "tags": []
          },
          "execution_count": 5
        }
      ]
    },
    {
      "cell_type": "code",
      "metadata": {
        "id": "MstUkDe_8tAo",
        "colab": {
          "base_uri": "https://localhost:8080/"
        },
        "outputId": "501981f5-1fd7-4760-c2fd-e72eed3aea5a"
      },
      "source": [
        "Y = df['AoG']\n",
        "Y.shape"
      ],
      "execution_count": null,
      "outputs": [
        {
          "output_type": "execute_result",
          "data": {
            "text/plain": [
              "(436,)"
            ]
          },
          "metadata": {
            "tags": []
          },
          "execution_count": 6
        }
      ]
    },
    {
      "cell_type": "markdown",
      "metadata": {
        "id": "tjEL5fdyvJ3v"
      },
      "source": [
        "**Apply count vectorizer or Bag of Words model**"
      ]
    },
    {
      "cell_type": "code",
      "metadata": {
        "id": "xR2h1K_QTlYA"
      },
      "source": [
        "from sklearn.feature_extraction.text import CountVectorizer"
      ],
      "execution_count": null,
      "outputs": []
    },
    {
      "cell_type": "code",
      "metadata": {
        "id": "-a7r1fyHTlYG"
      },
      "source": [
        "count_vect = CountVectorizer()\n",
        "#count_vect = CountVectorizer(ngram_range=(1, 2))"
      ],
      "execution_count": null,
      "outputs": []
    },
    {
      "cell_type": "code",
      "metadata": {
        "id": "VefPQJCjTlYN",
        "colab": {
          "base_uri": "https://localhost:8080/"
        },
        "outputId": "e438d8d7-1b38-4220-941d-aebcfe5c41e8"
      },
      "source": [
        "X_count = count_vect.fit_transform(X)\n",
        "print(X_count )\n",
        "#print(X_count.toarray())\n",
        "print(count_vect.get_feature_names())"
      ],
      "execution_count": null,
      "outputs": [
        {
          "output_type": "stream",
          "text": [
            "  (0, 224)\t1\n",
            "  (0, 26)\t1\n",
            "  (0, 226)\t1\n",
            "  (0, 129)\t1\n",
            "  (0, 186)\t1\n",
            "  (0, 310)\t1\n",
            "  (0, 95)\t1\n",
            "  (1, 482)\t1\n",
            "  (1, 241)\t1\n",
            "  (1, 444)\t3\n",
            "  (1, 127)\t1\n",
            "  (1, 60)\t1\n",
            "  (1, 251)\t2\n",
            "  (1, 298)\t2\n",
            "  (1, 12)\t1\n",
            "  (1, 16)\t1\n",
            "  (1, 225)\t1\n",
            "  (2, 444)\t1\n",
            "  (2, 298)\t1\n",
            "  (2, 12)\t1\n",
            "  (2, 140)\t1\n",
            "  (2, 250)\t1\n",
            "  (2, 391)\t1\n",
            "  (2, 311)\t1\n",
            "  (2, 212)\t1\n",
            "  :\t:\n",
            "  (431, 140)\t1\n",
            "  (431, 439)\t1\n",
            "  (431, 105)\t1\n",
            "  (432, 224)\t1\n",
            "  (432, 12)\t1\n",
            "  (432, 140)\t1\n",
            "  (432, 221)\t1\n",
            "  (432, 105)\t1\n",
            "  (432, 232)\t1\n",
            "  (433, 224)\t1\n",
            "  (433, 12)\t1\n",
            "  (433, 209)\t1\n",
            "  (433, 159)\t1\n",
            "  (433, 117)\t1\n",
            "  (434, 224)\t1\n",
            "  (434, 12)\t1\n",
            "  (434, 489)\t1\n",
            "  (434, 245)\t1\n",
            "  (434, 323)\t1\n",
            "  (435, 224)\t1\n",
            "  (435, 444)\t1\n",
            "  (435, 12)\t1\n",
            "  (435, 140)\t1\n",
            "  (435, 227)\t1\n",
            "  (435, 228)\t1\n",
            "['able', 'about', 'abraham', 'accept', 'accountable', 'acknowledge', 'admit', 'admonition', 'affair', 'after', 'alhamdulillah', 'all', 'allah', 'allahs', 'among', 'an', 'and', 'angels', 'animals', 'annoyed', 'another', 'any', 'anyone', 'anythin', 'approach', 'approached', 'are', 'as', 'ask', 'asked', 'asking', 'asks', 'at', 'attacks', 'attend', 'attitude', 'attributes', 'authority', 'baby', 'be', 'bear', 'become', 'before', 'began', 'beginning', 'begins', 'behalf', 'behind', 'being', 'beings', 'belief', 'believe', 'believed', 'believer', 'believers', 'belive', 'belong', 'belongs', 'beside', 'besides', 'between', 'blessings', 'born', 'bound', 'brain', 'bring', 'but', 'by', 'call', 'can', 'capable', 'cause', 'cave', 'challenge', 'change', 'characteristic', 'characteristics', 'charity', 'children', 'childrens', 'christ', 'colors', 'come', 'compensated', 'concepts', 'confirming', 'consider', 'constant', 'consulted', 'contemplate', 'control', 'controls', 'create', 'created', 'creating', 'creation', 'creations', 'creator', 'credited', 'dark', 'day', 'death', 'debate', 'decided', 'decides', 'decision', 'declare', 'deeds', 'defend', 'define', 'deities', 'deliver', 'deluded', 'demonstrate', 'describes', 'description', 'design', 'designed', 'designer', 'desire', 'desires', 'destroyed', 'destruction', 'develop', 'developed', 'did', 'die', 'difference', 'differences', 'different', 'difficult', 'diffrent', 'direction', 'disbelief', 'disbeliever', 'disbelievers', 'disblievers', 'disputes', 'do', 'documented', 'does', 'doing', 'dominion', 'done', 'doubt', 'down', 'duty', 'each', 'earth', 'easy', 'end', 'ending', 'ends', 'enemies', 'enmity', 'equals', 'establishment', 'every', 'everythihg', 'everything', 'evidence', 'exalted', 'example', 'exclusive', 'existence', 'exists', 'extent', 'eye', 'failure', 'faith', 'feared', 'female', 'fight', 'final', 'find', 'fixed', 'fogiveness', 'follow', 'food', 'for', 'forbearing', 'forgive', 'forgiven', 'forgiveness', 'forgives', 'forgiving', 'from', 'fulfill', 'full', 'function', 'gender', 'get', 'gets', 'gifts', 'give', 'given', 'giving', 'go', 'god', 'gods', 'going', 'govern', 'grateful', 'gratitude', 'growth', 'guidance', 'guides', 'happen', 'happens', 'has', 'have', 'he', 'hearts', 'heaven', 'heavens', 'hell', 'help', 'helped', 'hereafter', 'him', 'himself', 'his', 'history', 'hour', 'how', 'human', 'humans', 'hypocrites', 'identify', 'if', 'ignore', 'ignored', 'implement', 'important', 'in', 'individual', 'innovations', 'integrated', 'intermediaries', 'into', 'invited', 'is', 'islam', 'it', 'jesus', 'judge', 'judgement', 'judgment', 'keep', 'kept', 'know', 'knowledge', 'knows', 'laguages', 'laws', 'life', 'light', 'like', 'limit', 'listen', 'living', 'long', 'look', 'lord', 'made', 'main', 'male', 'mankind', 'many', 'mates', 'matter', 'matters', 'may', 'meet', 'men', 'mens', 'merciful', 'message', 'messengers', 'might', 'mind', 'miracle', 'monitor', 'months', 'moon', 'moses', 'most', 'motivation', 'muhammad', 'muslims', 'my', 'nature', 'need', 'never', 'new', 'night', 'not', 'occur', 'of', 'offspring', 'oft', 'okay', 'on', 'one', 'opening', 'opportunities', 'oppressed', 'or', 'originate', 'origins', 'other', 'our', 'out', 'outcomes', 'over', 'own', 'owner', 'pairs', 'paradise', 'pardoned', 'partners', 'people', 'permanent', 'person', 'pharao', 'plead', 'please', 'pleases', 'possible', 'power', 'powers', 'pra', 'praise', 'pray', 'predicted', 'prevented', 'priority', 'process', 'promote', 'proof', 'prophet', 'prophets', 'protect', 'protector', 'protects', 'provide', 'provides', 'providing', 'provision', 'punish', 'punished', 'punishment', 'purpose', 'put', 'qualities', 'queen', 'question', 'qur', 'quran', 'rain', 'random', 'reach', 'reason', 'record', 'reflect', 'relation', 'religion', 'remember', 'reminding', 'repeats', 'repents', 'responsibility', 'rest', 'result', 'return', 'revelation', 'reward', 'right', 'righteous', 'rivers', 'rule', 'ruler', 'rules', 'run', 'sail', 'same', 'say', 'says', 'science', 'scientific', 'scientists', 'secrets', 'see', 'seek', 'seeking', 'sees', 'select', 'sent', 'servants', 'serve', 'settle', 'settled', 'shapes', 'share', 'sheba', 'ships', 'short', 'should', 'show', 'signs', 'sins', 'so', 'solomon', 'son', 'space', 'special', 'specified', 'speech', 'stars', 'status', 'stay', 'stayed', 'still', 'stops', 'stress', 'studied', 'study', 'submit', 'success', 'such', 'sun', 'support', 'supreme', 'sustaining', 'sustains', 'sustenance', 'system', 'systems', 'tackle', 'take', 'term', 'test', 'than', 'that', 'the', 'their', 'them', 'themselves', 'there', 'they', 'thing', 'things', 'those', 'through', 'throughout', 'time', 'tired', 'to', 'towards', 'travel', 'treat', 'trees', 'trouble', 'trustworthy', 'truth', 'types', 'unbelievers', 'understand', 'understanding', 'undertaken', 'universe', 'unjust', 'unseen', 'us', 'use', 'variety', 'want', 'wants', 'was', 'watch', 'we', 'were', 'what', 'whatever', 'when', 'where', 'who', 'whom', 'why', 'will', 'wills', 'win', 'wisdom', 'with', 'withhold', 'witness', 'wny', 'work', 'world', 'worship', 'worthy', 'would']\n"
          ],
          "name": "stdout"
        }
      ]
    },
    {
      "cell_type": "markdown",
      "metadata": {
        "id": "48ytOhtLfaT5"
      },
      "source": [
        "**How BOW model is applied on one Question**"
      ]
    },
    {
      "cell_type": "code",
      "metadata": {
        "colab": {
          "base_uri": "https://localhost:8080/"
        },
        "id": "SLl8mi5adsPh",
        "outputId": "ebc95081-7e28-456c-f72c-905186184a2c"
      },
      "source": [
        "Question = ['How each human is entirely different from another human?']\r\n",
        "X_count_question = count_vect.fit_transform(Question)\r\n",
        "print(X_count_question )\r\n",
        "print(count_vect.get_feature_names())"
      ],
      "execution_count": null,
      "outputs": [
        {
          "output_type": "stream",
          "text": [
            "  (0, 5)\t1\n",
            "  (0, 2)\t1\n",
            "  (0, 6)\t2\n",
            "  (0, 7)\t1\n",
            "  (0, 3)\t1\n",
            "  (0, 1)\t1\n",
            "  (0, 4)\t1\n",
            "  (0, 0)\t1\n",
            "['another', 'different', 'each', 'entirely', 'from', 'how', 'human', 'is']\n"
          ],
          "name": "stdout"
        }
      ]
    },
    {
      "cell_type": "markdown",
      "metadata": {
        "id": "uBjGVQLDvg04"
      },
      "source": [
        "**Apply SVM**"
      ]
    },
    {
      "cell_type": "code",
      "metadata": {
        "id": "ASuHXhO98CHp"
      },
      "source": [
        "from sklearn import svm\r\n",
        "model = svm.SVC()\r\n",
        "model_svm=model.fit(X_count, Y)"
      ],
      "execution_count": null,
      "outputs": []
    },
    {
      "cell_type": "markdown",
      "metadata": {
        "id": "cbTKDXCStr1V"
      },
      "source": [
        "**Prediction of SVM on one/new Question**"
      ]
    },
    {
      "cell_type": "code",
      "metadata": {
        "id": "cl1PphQtGQaw",
        "colab": {
          "base_uri": "https://localhost:8080/"
        },
        "outputId": "d4f8627e-0c9c-43c1-ebc5-494d95b979d2"
      },
      "source": [
        "# define input\n",
        "Question= 'How each human is entirely different from another human?'\n",
        "BoW_Question =(count_vect.transform([Question]))\n",
        "# get prediction for new input\n",
        "Prediction_SVM_Model = model_svm.predict(BoW_Question)\n",
        "# summarize input and output\n",
        "print('Given Question:',Question ,'\\n After applying BoW model:\\n', BoW_Question ,'\\n Prediction of SVM:', Prediction_SVM_Model)"
      ],
      "execution_count": null,
      "outputs": [
        {
          "output_type": "stream",
          "text": [
            "Given Question: How each human is entirely different from another human? \n",
            " After applying BoW model:\n",
            "   (0, 20)\t1\n",
            "  (0, 129)\t1\n",
            "  (0, 147)\t1\n",
            "  (0, 186)\t1\n",
            "  (0, 224)\t1\n",
            "  (0, 225)\t2\n",
            "  (0, 241)\t1 \n",
            " Prediction of SVM: [0]\n"
          ],
          "name": "stdout"
        }
      ]
    },
    {
      "cell_type": "code",
      "metadata": {
        "id": "rMhyA2fWJkKn",
        "colab": {
          "base_uri": "https://localhost:8080/"
        },
        "outputId": "4bb87b43-cd3b-4954-9db1-1f0807343885"
      },
      "source": [
        "print('Prediction of SVM:', Z, new_output)"
      ],
      "execution_count": null,
      "outputs": [
        {
          "output_type": "stream",
          "text": [
            "Prediction of SVM: How each human is entirely different from another human? [0]\n"
          ],
          "name": "stdout"
        }
      ]
    },
    {
      "cell_type": "markdown",
      "metadata": {
        "id": "gBGNhRH6vq9A"
      },
      "source": [
        "**Upload Test File**"
      ]
    },
    {
      "cell_type": "code",
      "metadata": {
        "id": "Kil7b9EDHz5c",
        "colab": {
          "resources": {
            "http://localhost:8080/nbextensions/google.colab/files.js": {
              "data": "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",
              "ok": true,
              "headers": [
                [
                  "content-type",
                  "application/javascript"
                ]
              ],
              "status": 200,
              "status_text": "OK"
            }
          },
          "base_uri": "https://localhost:8080/",
          "height": 75
        },
        "outputId": "f5605845-e189-4fab-da09-a33ccd9a8a27"
      },
      "source": [
        "from google.colab import files\n",
        "uploaded = files.upload()"
      ],
      "execution_count": null,
      "outputs": [
        {
          "output_type": "display_data",
          "data": {
            "text/html": [
              "\n",
              "     <input type=\"file\" id=\"files-641f8cf9-d1c8-400f-8065-f6ec00881c99\" name=\"files[]\" multiple disabled\n",
              "        style=\"border:none\" />\n",
              "     <output id=\"result-641f8cf9-d1c8-400f-8065-f6ec00881c99\">\n",
              "      Upload widget is only available when the cell has been executed in the\n",
              "      current browser session. Please rerun this cell to enable.\n",
              "      </output>\n",
              "      <script src=\"/nbextensions/google.colab/files.js\"></script> "
            ],
            "text/plain": [
              "<IPython.core.display.HTML object>"
            ]
          },
          "metadata": {
            "tags": []
          }
        },
        {
          "output_type": "stream",
          "text": [
            "Saving AoG_test.xlsx to AoG_test.xlsx\n"
          ],
          "name": "stdout"
        }
      ]
    },
    {
      "cell_type": "markdown",
      "metadata": {
        "id": "WPbCEFMavzSc"
      },
      "source": [
        "**Read Test file**"
      ]
    },
    {
      "cell_type": "code",
      "metadata": {
        "id": "3bisohkKocHR",
        "colab": {
          "base_uri": "https://localhost:8080/",
          "height": 424
        },
        "outputId": "517a0938-f0bd-4c79-f87f-a60533dd38ca"
      },
      "source": [
        "# making data frame\n",
        "#df1 = pd.read_csv(\"AoG_Cr_test.csv\")\n",
        "df1= pd.read_excel(\"AoG_test.xlsx\")\n",
        "df1"
      ],
      "execution_count": null,
      "outputs": [
        {
          "output_type": "execute_result",
          "data": {
            "text/html": [
              "<div>\n",
              "<style scoped>\n",
              "    .dataframe tbody tr th:only-of-type {\n",
              "        vertical-align: middle;\n",
              "    }\n",
              "\n",
              "    .dataframe tbody tr th {\n",
              "        vertical-align: top;\n",
              "    }\n",
              "\n",
              "    .dataframe thead th {\n",
              "        text-align: right;\n",
              "    }\n",
              "</style>\n",
              "<table border=\"1\" class=\"dataframe\">\n",
              "  <thead>\n",
              "    <tr style=\"text-align: right;\">\n",
              "      <th></th>\n",
              "      <th>Question text without tag</th>\n",
              "      <th>AoG</th>\n",
              "    </tr>\n",
              "  </thead>\n",
              "  <tbody>\n",
              "    <tr>\n",
              "      <th>0</th>\n",
              "      <td>Does Allah know what is inside the brain of h...</td>\n",
              "      <td>1</td>\n",
              "    </tr>\n",
              "    <tr>\n",
              "      <th>1</th>\n",
              "      <td>Does Allah know what is inside our hearts</td>\n",
              "      <td>1</td>\n",
              "    </tr>\n",
              "    <tr>\n",
              "      <th>2</th>\n",
              "      <td>Can anyone be in control of the Earth</td>\n",
              "      <td>1</td>\n",
              "    </tr>\n",
              "    <tr>\n",
              "      <th>3</th>\n",
              "      <td>What blessings does Allah want humans to study</td>\n",
              "      <td>0</td>\n",
              "    </tr>\n",
              "    <tr>\n",
              "      <th>4</th>\n",
              "      <td>What signs does Allah want humans to study</td>\n",
              "      <td>0</td>\n",
              "    </tr>\n",
              "    <tr>\n",
              "      <th>...</th>\n",
              "      <td>...</td>\n",
              "      <td>...</td>\n",
              "    </tr>\n",
              "    <tr>\n",
              "      <th>104</th>\n",
              "      <td>Who governs everything</td>\n",
              "      <td>1</td>\n",
              "    </tr>\n",
              "    <tr>\n",
              "      <th>105</th>\n",
              "      <td>What are Allah's qualities</td>\n",
              "      <td>1</td>\n",
              "    </tr>\n",
              "    <tr>\n",
              "      <th>106</th>\n",
              "      <td>Who conceptualised everything</td>\n",
              "      <td>1</td>\n",
              "    </tr>\n",
              "    <tr>\n",
              "      <th>107</th>\n",
              "      <td>Can we hide anything from Allah</td>\n",
              "      <td>1</td>\n",
              "    </tr>\n",
              "    <tr>\n",
              "      <th>108</th>\n",
              "      <td>Can Allah see into our hearts</td>\n",
              "      <td>1</td>\n",
              "    </tr>\n",
              "  </tbody>\n",
              "</table>\n",
              "<p>109 rows × 2 columns</p>\n",
              "</div>"
            ],
            "text/plain": [
              "                             Question text without tag  AoG\n",
              "0     Does Allah know what is inside the brain of h...    1\n",
              "1            Does Allah know what is inside our hearts    1\n",
              "2                Can anyone be in control of the Earth    1\n",
              "3       What blessings does Allah want humans to study    0\n",
              "4           What signs does Allah want humans to study    0\n",
              "..                                                 ...  ...\n",
              "104                             Who governs everything    1\n",
              "105                         What are Allah's qualities    1\n",
              "106                      Who conceptualised everything    1\n",
              "107                    Can we hide anything from Allah    1\n",
              "108                      Can Allah see into our hearts    1\n",
              "\n",
              "[109 rows x 2 columns]"
            ]
          },
          "metadata": {
            "tags": []
          },
          "execution_count": 31
        }
      ]
    },
    {
      "cell_type": "markdown",
      "metadata": {
        "id": "qBlym9bP-b75"
      },
      "source": [
        "**Define columns**"
      ]
    },
    {
      "cell_type": "code",
      "metadata": {
        "id": "gopBKSK9r9Kr",
        "colab": {
          "base_uri": "https://localhost:8080/",
          "height": 424
        },
        "outputId": "f4402367-970c-4d0d-de44-f0f3671153bb"
      },
      "source": [
        "col = ['Question text without tag','AoG']\n",
        "df1= df1[col]\n",
        "df1= df1[pd.notnull(df1['Question text without tag'])]\n",
        "df1"
      ],
      "execution_count": null,
      "outputs": [
        {
          "output_type": "execute_result",
          "data": {
            "text/html": [
              "<div>\n",
              "<style scoped>\n",
              "    .dataframe tbody tr th:only-of-type {\n",
              "        vertical-align: middle;\n",
              "    }\n",
              "\n",
              "    .dataframe tbody tr th {\n",
              "        vertical-align: top;\n",
              "    }\n",
              "\n",
              "    .dataframe thead th {\n",
              "        text-align: right;\n",
              "    }\n",
              "</style>\n",
              "<table border=\"1\" class=\"dataframe\">\n",
              "  <thead>\n",
              "    <tr style=\"text-align: right;\">\n",
              "      <th></th>\n",
              "      <th>Question text without tag</th>\n",
              "      <th>AoG</th>\n",
              "    </tr>\n",
              "  </thead>\n",
              "  <tbody>\n",
              "    <tr>\n",
              "      <th>0</th>\n",
              "      <td>Does Allah know what is inside the brain of h...</td>\n",
              "      <td>1</td>\n",
              "    </tr>\n",
              "    <tr>\n",
              "      <th>1</th>\n",
              "      <td>Does Allah know what is inside our hearts</td>\n",
              "      <td>1</td>\n",
              "    </tr>\n",
              "    <tr>\n",
              "      <th>2</th>\n",
              "      <td>Can anyone be in control of the Earth</td>\n",
              "      <td>1</td>\n",
              "    </tr>\n",
              "    <tr>\n",
              "      <th>3</th>\n",
              "      <td>What blessings does Allah want humans to study</td>\n",
              "      <td>0</td>\n",
              "    </tr>\n",
              "    <tr>\n",
              "      <th>4</th>\n",
              "      <td>What signs does Allah want humans to study</td>\n",
              "      <td>0</td>\n",
              "    </tr>\n",
              "    <tr>\n",
              "      <th>...</th>\n",
              "      <td>...</td>\n",
              "      <td>...</td>\n",
              "    </tr>\n",
              "    <tr>\n",
              "      <th>104</th>\n",
              "      <td>Who governs everything</td>\n",
              "      <td>1</td>\n",
              "    </tr>\n",
              "    <tr>\n",
              "      <th>105</th>\n",
              "      <td>What are Allah's qualities</td>\n",
              "      <td>1</td>\n",
              "    </tr>\n",
              "    <tr>\n",
              "      <th>106</th>\n",
              "      <td>Who conceptualised everything</td>\n",
              "      <td>1</td>\n",
              "    </tr>\n",
              "    <tr>\n",
              "      <th>107</th>\n",
              "      <td>Can we hide anything from Allah</td>\n",
              "      <td>1</td>\n",
              "    </tr>\n",
              "    <tr>\n",
              "      <th>108</th>\n",
              "      <td>Can Allah see into our hearts</td>\n",
              "      <td>1</td>\n",
              "    </tr>\n",
              "  </tbody>\n",
              "</table>\n",
              "<p>109 rows × 2 columns</p>\n",
              "</div>"
            ],
            "text/plain": [
              "                             Question text without tag  AoG\n",
              "0     Does Allah know what is inside the brain of h...    1\n",
              "1            Does Allah know what is inside our hearts    1\n",
              "2                Can anyone be in control of the Earth    1\n",
              "3       What blessings does Allah want humans to study    0\n",
              "4           What signs does Allah want humans to study    0\n",
              "..                                                 ...  ...\n",
              "104                             Who governs everything    1\n",
              "105                         What are Allah's qualities    1\n",
              "106                      Who conceptualised everything    1\n",
              "107                    Can we hide anything from Allah    1\n",
              "108                      Can Allah see into our hearts    1\n",
              "\n",
              "[109 rows x 2 columns]"
            ]
          },
          "metadata": {
            "tags": []
          },
          "execution_count": 32
        }
      ]
    },
    {
      "cell_type": "markdown",
      "metadata": {
        "id": "LQX4dpov_xDo"
      },
      "source": [
        "**define shape**"
      ]
    },
    {
      "cell_type": "code",
      "metadata": {
        "id": "odep8NRNo0JQ",
        "colab": {
          "base_uri": "https://localhost:8080/"
        },
        "outputId": "27e2839e-1e52-412d-8a8e-3c0b86796450"
      },
      "source": [
        "X1 = df1['Question text without tag']\n",
        "X1.shape"
      ],
      "execution_count": null,
      "outputs": [
        {
          "output_type": "execute_result",
          "data": {
            "text/plain": [
              "(109,)"
            ]
          },
          "metadata": {
            "tags": []
          },
          "execution_count": 33
        }
      ]
    },
    {
      "cell_type": "code",
      "metadata": {
        "id": "_949pL32wNrp",
        "colab": {
          "base_uri": "https://localhost:8080/"
        },
        "outputId": "a61864a1-db4f-4beb-c7ee-b84d6528936a"
      },
      "source": [
        "Y1 = df1['AoG']\n",
        "Y1.shape"
      ],
      "execution_count": null,
      "outputs": [
        {
          "output_type": "execute_result",
          "data": {
            "text/plain": [
              "(109,)"
            ]
          },
          "metadata": {
            "tags": []
          },
          "execution_count": 34
        }
      ]
    },
    {
      "cell_type": "markdown",
      "metadata": {
        "id": "P0y3yPP9_9Or"
      },
      "source": [
        "**Prediction of the model on one sample Question**"
      ]
    },
    {
      "cell_type": "code",
      "metadata": {
        "id": "DqrN-Knk7HAG",
        "colab": {
          "base_uri": "https://localhost:8080/",
          "height": 36
        },
        "outputId": "895b6e2d-190a-4ff5-c58f-3c1a28a88468"
      },
      "source": [
        "X1[0]"
      ],
      "execution_count": null,
      "outputs": [
        {
          "output_type": "execute_result",
          "data": {
            "application/vnd.google.colaboratory.intrinsic+json": {
              "type": "string"
            },
            "text/plain": [
              "' Does Allah know what is inside the brain of human'"
            ]
          },
          "metadata": {
            "tags": []
          },
          "execution_count": 35
        }
      ]
    },
    {
      "cell_type": "code",
      "metadata": {
        "id": "GT_cR0rOvv2L"
      },
      "source": [
        "X1_count = count_vect.transform(X1)\n"
      ],
      "execution_count": null,
      "outputs": []
    },
    {
      "cell_type": "code",
      "metadata": {
        "id": "zxVldOJvzsVP"
      },
      "source": [
        "# make predictions on the entire test dataset\n",
        "predict_svm=model_svm.predict(X1_count)"
      ],
      "execution_count": null,
      "outputs": []
    },
    {
      "cell_type": "code",
      "metadata": {
        "id": "wHm6xzJIy3ca",
        "colab": {
          "base_uri": "https://localhost:8080/"
        },
        "outputId": "37492b10-d83a-4622-f835-cc5e35222cf0"
      },
      "source": [
        "print(X1[0], predict_svm[0])"
      ],
      "execution_count": null,
      "outputs": [
        {
          "output_type": "stream",
          "text": [
            " Does Allah know what is inside the brain of human 1\n"
          ],
          "name": "stdout"
        }
      ]
    },
    {
      "cell_type": "markdown",
      "metadata": {
        "id": "zDvpbaTxAJ2Y"
      },
      "source": [
        "**Prediction of model on overall test data**"
      ]
    },
    {
      "cell_type": "code",
      "metadata": {
        "id": "_70oPsK8O87r",
        "colab": {
          "base_uri": "https://localhost:8080/"
        },
        "outputId": "686f80cb-d542-40ee-96d5-9859b747faf3"
      },
      "source": [
        "# connect predictions with outputs\n",
        "for i in range(109):\n",
        "\tprint(X1[i],predict_svm[i])"
      ],
      "execution_count": null,
      "outputs": [
        {
          "output_type": "stream",
          "text": [
            " Does Allah know what is inside the brain of human 1\n",
            "Does Allah know what is inside our hearts 1\n",
            "Can anyone be in control of the Earth 1\n",
            "What blessings does Allah want humans to study 0\n",
            "What signs does Allah want humans to study 0\n",
            "Where has knowledge come from 0\n",
            "Why is the earth different 0\n",
            "Is anyone in control 1\n",
            "Is there a purpose to human life 0\n",
            "How does Allah have control of everything 1\n",
            "What is disbelief 0\n",
            "When in trouble, who can protect human beings? 1\n",
            "What does Allah want from human beings 0\n",
            "Why did Allah create the earth 0\n",
            "Will the earth end 1\n",
            "How does God know all things 1\n",
            "How did Allah create 0\n",
            "How did Abraham declare his faith 0\n",
            "Why did Abraham declare his faith 0\n",
            "How did Allah design and create all things 0\n",
            "Why should one believe 0\n",
            "What is the role of messengers 0\n",
            "Should Allah be feared 0\n",
            "Why is Allah our Lord 1\n",
            "Did it take time to create everything 0\n",
            "Is there life after death 0\n",
            "How did prophets confirm the truth 0\n",
            "Do things other than humans know about Allah 0\n",
            "Who designed the stars 1\n",
            "Does Allah has the power to create a new heaven and earth 1\n",
            "Can anyone run away from Allah 1\n",
            "Did Allah create anything without reason 0\n",
            "How the heaven and earth were before Allah separated them  0\n",
            "Who is the final goal(of all) 1\n",
            "Does he begotten any Son 1\n",
            "Does Allah have partnership in his dominion 1\n",
            "Who rules the heaven and earth 1\n",
            "Who is the Lord and Cherisher 1\n",
            "Is God lord of everything 1\n",
            "Who knows what we hide and what we reveal 1\n",
            "Who cause grow well-planted orchards full of beauty and of delight 1\n",
            "What is Allah challenging about other deities 0\n",
            "What are among Allah's signs 0\n",
            "Who has command on heaven and earth 1\n",
            "To whom does the heaven and earth belong 1\n",
            "Does Allah have any need 1\n",
            "Can anyone save us from trouble 0\n",
            "Why did Allah create human beings 0\n",
            "Why could other creation not accept the responsibility 0\n",
            "Who provides sustenance 1\n",
            " Does human have the ability to know the hidden in heaven and earth 1\n",
            "Is it hard for Allah to create heaven and earth again 0\n",
            "How long we can expect the forgiveness from God 0\n",
            "How did Allah create heaven and earth 0\n",
            "What is belief 0\n",
            "Is there any power besides Allah 0\n",
            "What is disbelief 0\n",
            "What is hypocrisy 0\n",
            "Who is in control 1\n",
            "Is it important to follow the Quran 0\n",
            " How does Allah control 1\n",
            "Why are there so many varieties in nature 0\n",
            " Was the universe created by itself 1\n",
            " How can Allah be described 1\n",
            "What are the characteristics of a believer 0\n",
            "Can Allah create from nothing 1\n",
            "How does a believer know that He has faith 1\n",
            " Why does Allah forgive sins 1\n",
            "Who has the right to forgive sins 1\n",
            "Can Allah see what is in my heart 1\n",
            "Does Allah know everyting works 1\n",
            " Is existence of the earth proof of the existence of Allah 0\n",
            "How were humans born 0\n",
            "Who is behind creation 1\n",
            "Why does Allah decide the outcome 1\n",
            "Why should one give charity 0\n",
            "How can one please Allah 1\n",
            " How does Allah reward those He forgives 1\n",
            " In what manner does Allah reward those who seek His forgiveness 1\n",
            "What do hypocrites hope for believers 0\n",
            "What is the proof that the Creator exists 0\n",
            "Why do humans grow 0\n",
            "Why does Allah watch over us 1\n",
            " Outside creation, other than Allah, is there any one 0\n",
            "What attitude does creation have towards Allah 0\n",
            "How many religions are there 0\n",
            "Are human beings monitored 0\n",
            "How are human beings monitored 0\n",
            "Can there be any doubt about the purpose of Creation 0\n",
            "Can there be any doubt about the Day of Judgment 0\n",
            "Do we need to please Allah 1\n",
            "Should we be afraid 0\n",
            "Does the Creator monitor our characters 1\n",
            "Should believers be afraid when they declare belief 0\n",
            "Why should Allah be worshipped 0\n",
            "Who designed everything 1\n",
            "How should believers respond to Allah 0\n",
            "Why does Allah send calamities 1\n",
            "What was Prophet Muhammad's main message 0\n",
            "Where did life come from 0\n",
            "Why people do not believe in the messengers 0\n",
            "What is the nature of Allah 1\n",
            "Can human beings understand the design of the universe 0\n",
            "Who is Allah 1\n",
            "Who governs everything 1\n",
            "What are Allah's qualities 0\n",
            "Who conceptualised everything 1\n",
            "Can we hide anything from Allah 1\n",
            "Can Allah see into our hearts 1\n"
          ],
          "name": "stdout"
        }
      ]
    },
    {
      "cell_type": "code",
      "metadata": {
        "id": "p5mC3r0rTlYb"
      },
      "source": [
        "from sklearn import metrics"
      ],
      "execution_count": null,
      "outputs": []
    },
    {
      "cell_type": "code",
      "metadata": {
        "id": "xfRnbC8a16rA"
      },
      "source": [
        "from sklearn.metrics import accuracy_score"
      ],
      "execution_count": null,
      "outputs": []
    },
    {
      "cell_type": "code",
      "metadata": {
        "id": "4K-bETQo1ecV",
        "colab": {
          "base_uri": "https://localhost:8080/"
        },
        "outputId": "a4811e62-12a0-4298-c0f6-5d8886707bf8"
      },
      "source": [
        "acc_svm = accuracy_score(Y1,predict_svm) * 100\n",
        "print(acc_svm)"
      ],
      "execution_count": null,
      "outputs": [
        {
          "output_type": "stream",
          "text": [
            "76.14678899082568\n"
          ],
          "name": "stdout"
        }
      ]
    },
    {
      "cell_type": "markdown",
      "metadata": {
        "id": "-g7o3VgcxAng"
      },
      "source": [
        "**Accuracy scores applying SVM**"
      ]
    },
    {
      "cell_type": "code",
      "metadata": {
        "colab": {
          "base_uri": "https://localhost:8080/"
        },
        "id": "KKtBBG07pycC",
        "outputId": "308362b5-966c-42f8-eb38-c2506307ddd5"
      },
      "source": [
        "from sklearn.metrics import accuracy_score, f1_score, precision_score\r\n",
        "print(\"Accuracy:\",accuracy_score(Y1,predict_svm))\r\n",
        "print(\"F1-SCORE:\",f1_score(Y1,predict_svm))\r\n",
        "print(\"PRECISION:\",precision_score(Y1,predict_svm))"
      ],
      "execution_count": null,
      "outputs": [
        {
          "output_type": "stream",
          "text": [
            "Accuracy: 0.7614678899082569\n",
            "F1-SCORE: 0.7499999999999999\n",
            "PRECISION: 0.7647058823529411\n"
          ],
          "name": "stdout"
        }
      ]
    },
    {
      "cell_type": "code",
      "metadata": {
        "colab": {
          "base_uri": "https://localhost:8080/"
        },
        "id": "wkJ4fKr2rtrz",
        "outputId": "1ccb271a-1445-4a3b-e630-f776beebc0e1"
      },
      "source": [
        "# connect predictions with outputs\r\n",
        "for i in range(109):\r\n",
        "\tprint(predict_svm[i])"
      ],
      "execution_count": null,
      "outputs": [
        {
          "output_type": "stream",
          "text": [
            "1\n",
            "1\n",
            "1\n",
            "0\n",
            "0\n",
            "0\n",
            "0\n",
            "1\n",
            "0\n",
            "1\n",
            "0\n",
            "1\n",
            "0\n",
            "0\n",
            "1\n",
            "1\n",
            "0\n",
            "0\n",
            "0\n",
            "0\n",
            "0\n",
            "0\n",
            "0\n",
            "1\n",
            "0\n",
            "0\n",
            "0\n",
            "0\n",
            "1\n",
            "1\n",
            "1\n",
            "0\n",
            "0\n",
            "1\n",
            "1\n",
            "1\n",
            "1\n",
            "1\n",
            "1\n",
            "1\n",
            "1\n",
            "0\n",
            "0\n",
            "1\n",
            "1\n",
            "1\n",
            "0\n",
            "0\n",
            "0\n",
            "1\n",
            "1\n",
            "0\n",
            "0\n",
            "0\n",
            "0\n",
            "0\n",
            "0\n",
            "0\n",
            "1\n",
            "0\n",
            "1\n",
            "0\n",
            "1\n",
            "1\n",
            "0\n",
            "1\n",
            "1\n",
            "1\n",
            "1\n",
            "1\n",
            "1\n",
            "0\n",
            "0\n",
            "1\n",
            "1\n",
            "0\n",
            "1\n",
            "1\n",
            "1\n",
            "0\n",
            "0\n",
            "0\n",
            "1\n",
            "0\n",
            "0\n",
            "0\n",
            "0\n",
            "0\n",
            "0\n",
            "0\n",
            "1\n",
            "0\n",
            "1\n",
            "0\n",
            "0\n",
            "1\n",
            "0\n",
            "1\n",
            "0\n",
            "0\n",
            "0\n",
            "1\n",
            "0\n",
            "1\n",
            "1\n",
            "0\n",
            "1\n",
            "1\n",
            "1\n"
          ],
          "name": "stdout"
        }
      ]
    }
  ]
}