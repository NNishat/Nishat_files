{
  "nbformat": 4,
  "nbformat_minor": 0,
  "metadata": {
    "colab": {
      "name": "Ayat_test NBayes.ipynb",
      "provenance": [],
      "collapsed_sections": []
    },
    "kernelspec": {
      "name": "python3",
      "display_name": "Python 3"
    }
  },
  "cells": [
    {
      "cell_type": "markdown",
      "metadata": {
        "id": "_hKoth6KlNWY",
        "colab_type": "text"
      },
      "source": [
        "**Necessary library**"
      ]
    },
    {
      "cell_type": "code",
      "metadata": {
        "id": "xOIL6erilL_1",
        "colab_type": "code",
        "colab": {}
      },
      "source": [
        "import numpy as np\n",
        "import pandas as pd\n",
        "import matplotlib.pyplot as plt"
      ],
      "execution_count": null,
      "outputs": []
    },
    {
      "cell_type": "markdown",
      "metadata": {
        "id": "8MIPS3Y-lRbl",
        "colab_type": "text"
      },
      "source": [
        "**Load the dataset**"
      ]
    },
    {
      "cell_type": "code",
      "metadata": {
        "id": "SwgB3H7d46dW",
        "colab_type": "code",
        "colab": {}
      },
      "source": [
        "url = 'https://raw.githubusercontent.com/NNishat/Nishat_files/master/dataset.csv'\n",
        "df = pd.read_csv(url)\n",
        "# Dataset is now stored in a Pandas Dataframe"
      ],
      "execution_count": null,
      "outputs": []
    },
    {
      "cell_type": "code",
      "metadata": {
        "id": "dTia45deNa2H",
        "colab_type": "code",
        "colab": {
          "base_uri": "https://localhost:8080/",
          "height": 202
        },
        "outputId": "c2a9fb1d-77b3-4169-99d7-d2737a37e3f3"
      },
      "source": [
        "df.head(5)"
      ],
      "execution_count": null,
      "outputs": [
        {
          "output_type": "execute_result",
          "data": {
            "text/html": [
              "<div>\n",
              "<style scoped>\n",
              "    .dataframe tbody tr th:only-of-type {\n",
              "        vertical-align: middle;\n",
              "    }\n",
              "\n",
              "    .dataframe tbody tr th {\n",
              "        vertical-align: top;\n",
              "    }\n",
              "\n",
              "    .dataframe thead th {\n",
              "        text-align: right;\n",
              "    }\n",
              "</style>\n",
              "<table border=\"1\" class=\"dataframe\">\n",
              "  <thead>\n",
              "    <tr style=\"text-align: right;\">\n",
              "      <th></th>\n",
              "      <th>Sura without replacements</th>\n",
              "      <th>Attributes of God</th>\n",
              "    </tr>\n",
              "  </thead>\n",
              "  <tbody>\n",
              "    <tr>\n",
              "      <th>0</th>\n",
              "      <td>He said, \"O Adam, inform them of their names.\"...</td>\n",
              "      <td>1</td>\n",
              "    </tr>\n",
              "    <tr>\n",
              "      <th>1</th>\n",
              "      <td>Do you not know that to Allah belongs the domi...</td>\n",
              "      <td>1</td>\n",
              "    </tr>\n",
              "    <tr>\n",
              "      <th>2</th>\n",
              "      <td>Originator of the heavens and the earth. When ...</td>\n",
              "      <td>1</td>\n",
              "    </tr>\n",
              "    <tr>\n",
              "      <th>3</th>\n",
              "      <td>Indeed, in the creation of the heavens and ear...</td>\n",
              "      <td>0</td>\n",
              "    </tr>\n",
              "    <tr>\n",
              "      <th>4</th>\n",
              "      <td>Allah - there is no deity except Him, the Ever...</td>\n",
              "      <td>1</td>\n",
              "    </tr>\n",
              "  </tbody>\n",
              "</table>\n",
              "</div>"
            ],
            "text/plain": [
              "                           Sura without replacements  Attributes of God\n",
              "0  He said, \"O Adam, inform them of their names.\"...                  1\n",
              "1  Do you not know that to Allah belongs the domi...                  1\n",
              "2  Originator of the heavens and the earth. When ...                  1\n",
              "3  Indeed, in the creation of the heavens and ear...                  0\n",
              "4  Allah - there is no deity except Him, the Ever...                  1"
            ]
          },
          "metadata": {
            "tags": []
          },
          "execution_count": 3
        }
      ]
    },
    {
      "cell_type": "markdown",
      "metadata": {
        "id": "NIQY6cfQkIPg",
        "colab_type": "text"
      },
      "source": [
        "**Define independent and dependent features**"
      ]
    },
    {
      "cell_type": "code",
      "metadata": {
        "id": "XzmaKCgoQla9",
        "colab_type": "code",
        "colab": {}
      },
      "source": [
        "X= df['Sura without replacements']\n",
        "y= df['Attributes of God']"
      ],
      "execution_count": null,
      "outputs": []
    },
    {
      "cell_type": "markdown",
      "metadata": {
        "id": "u1eE4PQRkM3w",
        "colab_type": "text"
      },
      "source": [
        "**Copy the dataframe into mesages variable**"
      ]
    },
    {
      "cell_type": "code",
      "metadata": {
        "id": "OweRLVeZQ6g6",
        "colab_type": "code",
        "colab": {}
      },
      "source": [
        "mesages= df.copy()"
      ],
      "execution_count": null,
      "outputs": []
    },
    {
      "cell_type": "code",
      "metadata": {
        "id": "-HOHHlIQQ9d2",
        "colab_type": "code",
        "colab": {
          "base_uri": "https://localhost:8080/",
          "height": 171
        },
        "outputId": "e93b1551-a70a-4b66-f55a-1e15bf8e39bc"
      },
      "source": [
        "mesages.head(4)"
      ],
      "execution_count": null,
      "outputs": [
        {
          "output_type": "execute_result",
          "data": {
            "text/html": [
              "<div>\n",
              "<style scoped>\n",
              "    .dataframe tbody tr th:only-of-type {\n",
              "        vertical-align: middle;\n",
              "    }\n",
              "\n",
              "    .dataframe tbody tr th {\n",
              "        vertical-align: top;\n",
              "    }\n",
              "\n",
              "    .dataframe thead th {\n",
              "        text-align: right;\n",
              "    }\n",
              "</style>\n",
              "<table border=\"1\" class=\"dataframe\">\n",
              "  <thead>\n",
              "    <tr style=\"text-align: right;\">\n",
              "      <th></th>\n",
              "      <th>Sura without replacements</th>\n",
              "      <th>Attributes of God</th>\n",
              "    </tr>\n",
              "  </thead>\n",
              "  <tbody>\n",
              "    <tr>\n",
              "      <th>0</th>\n",
              "      <td>He said, \"O Adam, inform them of their names.\"...</td>\n",
              "      <td>1</td>\n",
              "    </tr>\n",
              "    <tr>\n",
              "      <th>1</th>\n",
              "      <td>Do you not know that to Allah belongs the domi...</td>\n",
              "      <td>1</td>\n",
              "    </tr>\n",
              "    <tr>\n",
              "      <th>2</th>\n",
              "      <td>Originator of the heavens and the earth. When ...</td>\n",
              "      <td>1</td>\n",
              "    </tr>\n",
              "    <tr>\n",
              "      <th>3</th>\n",
              "      <td>Indeed, in the creation of the heavens and ear...</td>\n",
              "      <td>0</td>\n",
              "    </tr>\n",
              "  </tbody>\n",
              "</table>\n",
              "</div>"
            ],
            "text/plain": [
              "                           Sura without replacements  Attributes of God\n",
              "0  He said, \"O Adam, inform them of their names.\"...                  1\n",
              "1  Do you not know that to Allah belongs the domi...                  1\n",
              "2  Originator of the heavens and the earth. When ...                  1\n",
              "3  Indeed, in the creation of the heavens and ear...                  0"
            ]
          },
          "metadata": {
            "tags": []
          },
          "execution_count": 27
        }
      ]
    },
    {
      "cell_type": "markdown",
      "metadata": {
        "id": "V1TMFidhkWNj",
        "colab_type": "text"
      },
      "source": [
        "**Apply RESET Index on the dataframe**"
      ]
    },
    {
      "cell_type": "code",
      "metadata": {
        "id": "PZ3SCauGRHT5",
        "colab_type": "code",
        "colab": {}
      },
      "source": [
        "mesages.reset_index(inplace=True)"
      ],
      "execution_count": null,
      "outputs": []
    },
    {
      "cell_type": "markdown",
      "metadata": {
        "id": "FpyWveIJkgVB",
        "colab_type": "text"
      },
      "source": [
        "**Library import**"
      ]
    },
    {
      "cell_type": "code",
      "metadata": {
        "id": "qgnRo-kxNlZm",
        "colab_type": "code",
        "colab": {}
      },
      "source": [
        "import re\n",
        "import nltk\n",
        "import string\n",
        "from nltk.tokenize import word_tokenize\n",
        "from nltk.corpus import stopwords\n",
        "from nltk.stem.porter import PorterStemmer"
      ],
      "execution_count": null,
      "outputs": []
    },
    {
      "cell_type": "markdown",
      "metadata": {
        "id": "Cs1JzqQskmL5",
        "colab_type": "text"
      },
      "source": [
        "**Text preprocessing**"
      ]
    },
    {
      "cell_type": "code",
      "metadata": {
        "id": "bHke440yOUKY",
        "colab_type": "code",
        "colab": {
          "base_uri": "https://localhost:8080/",
          "height": 280
        },
        "outputId": "66220886-4173-4188-dff5-2487592537af"
      },
      "source": [
        "#Ideas from this Youtube link about Naive bayes and bag of words--------------------https://www.youtube.com/watch?v=8Mlc4-3tgzc\n",
        "#github link--------------https://github.com/Suji04/NormalizedNerd/blob/master/Introduction%20to%20NLP/Bag%20of%20Words.ipynb\n",
        "import nltk\n",
        "nltk.download('punkt')\n",
        "nltk.download('stopwords')\n",
        "\n",
        "def clean_text(df):\n",
        "    all_reviews = list()\n",
        "    lines = df[\"Sura without replacements\"].values.tolist()\n",
        "    for text in lines:\n",
        "        text = text.lower()\n",
        "        #removing all the links\n",
        "        pattern = re.compile('http[s]?://(?:[a-zA-Z]|[0-9]|[$-_@.&+]|[!*\\(\\),]|(?:%[0-9a-fA-F][0-9a-fA-F]))+')\n",
        "        text = pattern.sub('', text)\n",
        "        #removing punctuation\n",
        "        text = re.sub(r\"[,.\\\"!@#$%^&*(){}?/;`~:<>+=-]\", \"\", text)\n",
        "        tokens = word_tokenize(text)\n",
        "        table = str.maketrans('', '', string.punctuation)\n",
        "        stripped = [w.translate(table) for w in tokens]\n",
        "        words = [word for word in stripped if word.isalpha()]\n",
        "        stop_words = set(stopwords.words(\"english\"))\n",
        "        stop_words.discard(\"not\")\n",
        "        PS = PorterStemmer()\n",
        "        #words = [w for w in words if not w in stop_words]\n",
        "        words = [PS.stem(w) for w in words if not w in stop_words]\n",
        "        words = ' '.join(words)\n",
        "        all_reviews.append(words)\n",
        "    return all_reviews\n",
        "\n",
        "all_reviews = clean_text(df)\n",
        "all_reviews[0:10]"
      ],
      "execution_count": null,
      "outputs": [
        {
          "output_type": "stream",
          "text": [
            "[nltk_data] Downloading package punkt to /root/nltk_data...\n",
            "[nltk_data]   Package punkt is already up-to-date!\n",
            "[nltk_data] Downloading package stopwords to /root/nltk_data...\n",
            "[nltk_data]   Package stopwords is already up-to-date!\n"
          ],
          "name": "stdout"
        },
        {
          "output_type": "execute_result",
          "data": {
            "text/plain": [
              "['said adam inform name inform name said not tell know unseen aspect heaven earth know reveal conceal',\n",
              " 'not know allah belong dominion heaven earth not besid allah protector helper',\n",
              " 'origin heaven earth decre matter say',\n",
              " 'inde creation heaven earth altern night day great ship sail sea benefit peopl allah sent heaven rain give life therebi earth lifeless dispers therein everi kind move creatur direct wind cloud control heaven earth sign peopl use reason',\n",
              " 'allah deiti except everliv sustain exist neither drowsi overtak sleep belong whatev heaven whatev earth interced except permiss know present encompass not thing knowledg except will kursi extend heaven earth preserv tire not high great',\n",
              " 'let not greedili withhold allah given bounti ever think better rather wors neck encircl withheld day resurrect allah belong heritag heaven earth allah fulli acquaint',\n",
              " 'allah belong dominion heaven earth allah thing compet',\n",
              " 'inde creation heaven earth altern night day sign understand',\n",
              " 'rememb allah stand sit lie side give thought creation heaven earth say lord not creat aimlessli exalt thing protect us punish fire',\n",
              " 'certainli disbeliev say allah christ son mari say could prevent allah intend destroy christ son mari mother everyon earth allah belong dominion heaven earth whatev creat will allah thing compet']"
            ]
          },
          "metadata": {
            "tags": []
          },
          "execution_count": 34
        }
      ]
    },
    {
      "cell_type": "markdown",
      "metadata": {
        "id": "lyTOFb1hkpQG",
        "colab_type": "text"
      },
      "source": [
        "**Features extraction using CountVectorizer**"
      ]
    },
    {
      "cell_type": "code",
      "metadata": {
        "id": "d3-UROnMOc90",
        "colab_type": "code",
        "colab": {}
      },
      "source": [
        "from sklearn.feature_extraction.text import CountVectorizer\n",
        "CV = CountVectorizer(min_df=3)   \n",
        "X = CV.fit_transform(all_reviews).toarray()\n",
        "y = mesages[\"Attributes of God\"]"
      ],
      "execution_count": null,
      "outputs": []
    },
    {
      "cell_type": "code",
      "metadata": {
        "id": "T7n6pDWzRbPc",
        "colab_type": "code",
        "colab": {
          "base_uri": "https://localhost:8080/",
          "height": 35
        },
        "outputId": "570196bd-d55b-487c-eb91-4927ec9c61ed"
      },
      "source": [
        "X.shape"
      ],
      "execution_count": null,
      "outputs": [
        {
          "output_type": "execute_result",
          "data": {
            "text/plain": [
              "(118, 108)"
            ]
          },
          "metadata": {
            "tags": []
          },
          "execution_count": 37
        }
      ]
    },
    {
      "cell_type": "code",
      "metadata": {
        "id": "m2QT36O3hoGQ",
        "colab_type": "code",
        "colab": {
          "base_uri": "https://localhost:8080/",
          "height": 294
        },
        "outputId": "ea371a89-44b5-4b44-c443-f46f4e03a1fb"
      },
      "source": [
        "#printing first 5 rows https://www.shanelynn.ie/select-pandas-dataframe-rows-and-columns-using-iloc-loc-and-ix/\n",
        "df.loc[0:7]"
      ],
      "execution_count": null,
      "outputs": [
        {
          "output_type": "execute_result",
          "data": {
            "text/html": [
              "<div>\n",
              "<style scoped>\n",
              "    .dataframe tbody tr th:only-of-type {\n",
              "        vertical-align: middle;\n",
              "    }\n",
              "\n",
              "    .dataframe tbody tr th {\n",
              "        vertical-align: top;\n",
              "    }\n",
              "\n",
              "    .dataframe thead th {\n",
              "        text-align: right;\n",
              "    }\n",
              "</style>\n",
              "<table border=\"1\" class=\"dataframe\">\n",
              "  <thead>\n",
              "    <tr style=\"text-align: right;\">\n",
              "      <th></th>\n",
              "      <th>Sura without replacements</th>\n",
              "      <th>Attributes of God</th>\n",
              "    </tr>\n",
              "  </thead>\n",
              "  <tbody>\n",
              "    <tr>\n",
              "      <th>0</th>\n",
              "      <td>He said, \"O Adam, inform them of their names.\"...</td>\n",
              "      <td>1</td>\n",
              "    </tr>\n",
              "    <tr>\n",
              "      <th>1</th>\n",
              "      <td>Do you not know that to Allah belongs the domi...</td>\n",
              "      <td>1</td>\n",
              "    </tr>\n",
              "    <tr>\n",
              "      <th>2</th>\n",
              "      <td>Originator of the heavens and the earth. When ...</td>\n",
              "      <td>1</td>\n",
              "    </tr>\n",
              "    <tr>\n",
              "      <th>3</th>\n",
              "      <td>Indeed, in the creation of the heavens and ear...</td>\n",
              "      <td>0</td>\n",
              "    </tr>\n",
              "    <tr>\n",
              "      <th>4</th>\n",
              "      <td>Allah - there is no deity except Him, the Ever...</td>\n",
              "      <td>1</td>\n",
              "    </tr>\n",
              "    <tr>\n",
              "      <th>5</th>\n",
              "      <td>And let not those who [greedily] withhold what...</td>\n",
              "      <td>1</td>\n",
              "    </tr>\n",
              "    <tr>\n",
              "      <th>6</th>\n",
              "      <td>And to Allah belongs the dominion of the heave...</td>\n",
              "      <td>1</td>\n",
              "    </tr>\n",
              "    <tr>\n",
              "      <th>7</th>\n",
              "      <td>Indeed, in the creation of the heavens and the...</td>\n",
              "      <td>0</td>\n",
              "    </tr>\n",
              "  </tbody>\n",
              "</table>\n",
              "</div>"
            ],
            "text/plain": [
              "                           Sura without replacements  Attributes of God\n",
              "0  He said, \"O Adam, inform them of their names.\"...                  1\n",
              "1  Do you not know that to Allah belongs the domi...                  1\n",
              "2  Originator of the heavens and the earth. When ...                  1\n",
              "3  Indeed, in the creation of the heavens and ear...                  0\n",
              "4  Allah - there is no deity except Him, the Ever...                  1\n",
              "5  And let not those who [greedily] withhold what...                  1\n",
              "6  And to Allah belongs the dominion of the heave...                  1\n",
              "7  Indeed, in the creation of the heavens and the...                  0"
            ]
          },
          "metadata": {
            "tags": []
          },
          "execution_count": 101
        }
      ]
    },
    {
      "cell_type": "code",
      "metadata": {
        "id": "jsCNpC9GYmpt",
        "colab_type": "code",
        "colab": {
          "base_uri": "https://localhost:8080/",
          "height": 35
        },
        "outputId": "d1ecfa44-3443-4040-d2d3-3c27ecb48ac2"
      },
      "source": [
        "df['Sura without replacements'][6]"
      ],
      "execution_count": null,
      "outputs": [
        {
          "output_type": "execute_result",
          "data": {
            "application/vnd.google.colaboratory.intrinsic+json": {
              "type": "string"
            },
            "text/plain": [
              "'And to Allah belongs the dominion of the heavens and the earth, and Allah is over all things competent.'"
            ]
          },
          "metadata": {
            "tags": []
          },
          "execution_count": 99
        }
      ]
    },
    {
      "cell_type": "markdown",
      "metadata": {
        "id": "Cd5vKQ9SkvnM",
        "colab_type": "text"
      },
      "source": [
        "**Train test split**"
      ]
    },
    {
      "cell_type": "code",
      "metadata": {
        "id": "0UlJO-oAOelI",
        "colab_type": "code",
        "colab": {}
      },
      "source": [
        "from sklearn.model_selection import train_test_split\n",
        "X_train, X_test, y_train, y_test = train_test_split(X, y, test_size = 0.2, random_state = 8)"
      ],
      "execution_count": null,
      "outputs": []
    },
    {
      "cell_type": "code",
      "metadata": {
        "id": "416O9iJQVqNQ",
        "colab_type": "code",
        "colab": {}
      },
      "source": [
        "# from sklearn.tree import DecisionTreeClassifier\n",
        "# model = DecisionTreeClassifier(criterion=\"entropy\", random_state=41)\n",
        "#explaining random state https://www.youtube.com/watch?v=c249O4giblM\n",
        "#cross validation https://www.youtube.com/watch?v=fKz-SgScM3Q\n",
        "\n",
        "#from sklearn.naive_bayes import MultinomialNB\n",
        "#model = MultinomialNB()\n",
        "#from sklearn.naive_bayes import BernoulliNB\n",
        "#model = BernoulliNB()\n",
        "#from sklearn.naive_bayes import svm\n",
        "#model=svm.SVC()"
      ],
      "execution_count": null,
      "outputs": []
    },
    {
      "cell_type": "markdown",
      "metadata": {
        "id": "fptKVmEDk0MB",
        "colab_type": "text"
      },
      "source": [
        "**GaussianNB Algorithm**"
      ]
    },
    {
      "cell_type": "code",
      "metadata": {
        "id": "a4pqtiw8Ok58",
        "colab_type": "code",
        "colab": {
          "base_uri": "https://localhost:8080/",
          "height": 69
        },
        "outputId": "9201dd4e-092f-405c-f713-84472bcdd943"
      },
      "source": [
        "from sklearn.naive_bayes import GaussianNB\n",
        "from sklearn.metrics import accuracy_score, f1_score, precision_score\n",
        "model = GaussianNB()\n",
        "model.fit(X_train,y_train)\n",
        "y_pred = model.predict(X_test)\n",
        "print(\"SCORE:\",accuracy_score(y_test, y_pred))\n",
        "print(\"F1-SCORE:\",f1_score(y_test, y_pred))\n",
        "print(\"PRECISION:\",precision_score(y_test, y_pred))"
      ],
      "execution_count": null,
      "outputs": [
        {
          "output_type": "stream",
          "text": [
            "SCORE: 0.7916666666666666\n",
            "F1-SCORE: 0.8648648648648648\n",
            "PRECISION: 0.8\n"
          ],
          "name": "stdout"
        }
      ]
    },
    {
      "cell_type": "markdown",
      "metadata": {
        "id": "y4ic8G-wk6FY",
        "colab_type": "text"
      },
      "source": [
        "**Predict manually**"
      ]
    },
    {
      "cell_type": "code",
      "metadata": {
        "id": "1kUpKyIRaNp-",
        "colab_type": "code",
        "colab": {
          "base_uri": "https://localhost:8080/",
          "height": 52
        },
        "outputId": "08ecccee-3dec-4b47-a049-1c6bb1a70ac7"
      },
      "source": [
        "model.predict(X_test)"
      ],
      "execution_count": null,
      "outputs": [
        {
          "output_type": "execute_result",
          "data": {
            "text/plain": [
              "array([1, 1, 0, 0, 1, 1, 0, 1, 1, 1, 1, 1, 1, 1, 1, 1, 0, 1, 1, 1, 1, 1,\n",
              "       1, 1])"
            ]
          },
          "metadata": {
            "tags": []
          },
          "execution_count": 77
        }
      ]
    },
    {
      "cell_type": "markdown",
      "metadata": {
        "id": "VQC9P_huO27p",
        "colab_type": "text"
      },
      "source": [
        "**K-fold cross validiation**"
      ]
    },
    {
      "cell_type": "code",
      "metadata": {
        "id": "8WyOxyDcO6og",
        "colab_type": "code",
        "colab": {
          "base_uri": "https://localhost:8080/",
          "height": 69
        },
        "outputId": "f175a0b4-ba1e-4e9b-9c4e-f218c42d07fe"
      },
      "source": [
        "from sklearn.model_selection import cross_validate\n",
        "cv_gaussianNB= cross_validate(model, X, y, cv=10)\n",
        "print(cv_gaussianNB['test_score'])\n",
        "print(cv_gaussianNB['test_score'].mean())"
      ],
      "execution_count": null,
      "outputs": [
        {
          "output_type": "stream",
          "text": [
            "[0.58333333 0.91666667 0.66666667 0.58333333 0.66666667 0.41666667\n",
            " 0.75       0.75       0.72727273 0.63636364]\n",
            "0.6696969696969697\n"
          ],
          "name": "stdout"
        }
      ]
    },
    {
      "cell_type": "markdown",
      "metadata": {
        "id": "NgvqCootlAi5",
        "colab_type": "text"
      },
      "source": [
        "**Predict from unknown dataset**"
      ]
    },
    {
      "cell_type": "code",
      "metadata": {
        "id": "eWpkBUw8cdqx",
        "colab_type": "code",
        "colab": {
          "base_uri": "https://localhost:8080/",
          "height": 35
        },
        "outputId": "d9f4875c-baea-4784-a3d8-d0c0e03bd0e3"
      },
      "source": [
        "emails = [\n",
        "          \n",
        "    \n",
        "    \"And to Allah belongs the dominion of the heavens and the earth, and Allah is over all things competent.\",\n",
        "\n",
        "    \"Allah - there is no deity except Him, the Ever-Living, the Sustainer of [all] existence. Neither drowsiness overtakes Him nor sleep. To Him belongs whatever is in the heavens and whatever is on the earth. Who is it that can intercede with Him except by His permission? He knows what is [presently] before them and what will be after them, and they encompass not a thing of His knowledge except for what He wills. His Kursi extends over the heavens and the earth, and their preservation tires Him not. And He is the Most High, the Most Great.\",\n",
        "    \n",
        "    \"Thiss is a text text for cross validiation and bias param check\",\n",
        "]\n",
        "emails_count = CV.transform(emails).toarray()\n",
        "model.predict(emails_count)"
      ],
      "execution_count": null,
      "outputs": [
        {
          "output_type": "execute_result",
          "data": {
            "text/plain": [
              "array([0, 1, 0])"
            ]
          },
          "metadata": {
            "tags": []
          },
          "execution_count": 103
        }
      ]
    }
  ]
}